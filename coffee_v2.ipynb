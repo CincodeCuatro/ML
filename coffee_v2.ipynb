{
 "cells": [
  {
   "cell_type": "code",
   "execution_count": 26,
   "metadata": {},
   "outputs": [],
   "source": [
    "import pandas as pd\n",
    "import numpy as np\n",
    "import seaborn as sns\n",
    "import matplotlib.pyplot as plt\n",
    "import sklearn\n",
    "from sklearn.model_selection import train_test_split\n",
    "from sklearn import linear_model"
   ]
  },
  {
   "cell_type": "code",
   "execution_count": 47,
   "metadata": {},
   "outputs": [
    {
     "data": {
      "text/html": [
       "<div>\n",
       "<style scoped>\n",
       "    .dataframe tbody tr th:only-of-type {\n",
       "        vertical-align: middle;\n",
       "    }\n",
       "\n",
       "    .dataframe tbody tr th {\n",
       "        vertical-align: top;\n",
       "    }\n",
       "\n",
       "    .dataframe thead th {\n",
       "        text-align: right;\n",
       "    }\n",
       "</style>\n",
       "<table border=\"1\" class=\"dataframe\">\n",
       "  <thead>\n",
       "    <tr style=\"text-align: right;\">\n",
       "      <th></th>\n",
       "      <th>sales_outlet_id</th>\n",
       "      <th>transaction_date</th>\n",
       "      <th>product_id</th>\n",
       "      <th>start_of_day</th>\n",
       "      <th>quantity_sold</th>\n",
       "      <th>waste</th>\n",
       "      <th>% waste</th>\n",
       "    </tr>\n",
       "  </thead>\n",
       "  <tbody>\n",
       "    <tr>\n",
       "      <th>0</th>\n",
       "      <td>3</td>\n",
       "      <td>4/1/2019</td>\n",
       "      <td>69</td>\n",
       "      <td>18</td>\n",
       "      <td>8</td>\n",
       "      <td>10</td>\n",
       "      <td>56%</td>\n",
       "    </tr>\n",
       "    <tr>\n",
       "      <th>1</th>\n",
       "      <td>3</td>\n",
       "      <td>4/1/2019</td>\n",
       "      <td>70</td>\n",
       "      <td>18</td>\n",
       "      <td>12</td>\n",
       "      <td>6</td>\n",
       "      <td>33%</td>\n",
       "    </tr>\n",
       "    <tr>\n",
       "      <th>2</th>\n",
       "      <td>3</td>\n",
       "      <td>4/1/2019</td>\n",
       "      <td>71</td>\n",
       "      <td>18</td>\n",
       "      <td>8</td>\n",
       "      <td>10</td>\n",
       "      <td>56%</td>\n",
       "    </tr>\n",
       "    <tr>\n",
       "      <th>3</th>\n",
       "      <td>3</td>\n",
       "      <td>4/1/2019</td>\n",
       "      <td>72</td>\n",
       "      <td>48</td>\n",
       "      <td>9</td>\n",
       "      <td>39</td>\n",
       "      <td>81%</td>\n",
       "    </tr>\n",
       "    <tr>\n",
       "      <th>4</th>\n",
       "      <td>3</td>\n",
       "      <td>4/1/2019</td>\n",
       "      <td>73</td>\n",
       "      <td>18</td>\n",
       "      <td>9</td>\n",
       "      <td>9</td>\n",
       "      <td>50%</td>\n",
       "    </tr>\n",
       "  </tbody>\n",
       "</table>\n",
       "</div>"
      ],
      "text/plain": [
       "   sales_outlet_id transaction_date  product_id  start_of_day  quantity_sold  \\\n",
       "0                3         4/1/2019          69            18              8   \n",
       "1                3         4/1/2019          70            18             12   \n",
       "2                3         4/1/2019          71            18              8   \n",
       "3                3         4/1/2019          72            48              9   \n",
       "4                3         4/1/2019          73            18              9   \n",
       "\n",
       "   waste % waste  \n",
       "0     10     56%  \n",
       "1      6     33%  \n",
       "2     10     56%  \n",
       "3     39     81%  \n",
       "4      9     50%  "
      ]
     },
     "execution_count": 47,
     "metadata": {},
     "output_type": "execute_result"
    }
   ],
   "source": [
    "df = pd.read_csv(\"pastry_inventory.csv\")\n",
    "df.head()"
   ]
  },
  {
   "cell_type": "markdown",
   "metadata": {},
   "source": [
    "# Initial Data Inspection"
   ]
  },
  {
   "cell_type": "code",
   "execution_count": 32,
   "metadata": {},
   "outputs": [
    {
     "data": {
      "text/plain": [
       "(307, 7)"
      ]
     },
     "execution_count": 32,
     "metadata": {},
     "output_type": "execute_result"
    }
   ],
   "source": [
    "#Get an idea of the data\n",
    "df.shape"
   ]
  },
  {
   "cell_type": "code",
   "execution_count": 33,
   "metadata": {},
   "outputs": [
    {
     "name": "stdout",
     "output_type": "stream",
     "text": [
      "<class 'pandas.core.frame.DataFrame'>\n",
      "RangeIndex: 307 entries, 0 to 306\n",
      "Data columns (total 7 columns):\n",
      " #   Column            Non-Null Count  Dtype \n",
      "---  ------            --------------  ----- \n",
      " 0   sales_outlet_id   307 non-null    int64 \n",
      " 1   transaction_date  307 non-null    object\n",
      " 2   product_id        307 non-null    int64 \n",
      " 3   start_of_day      307 non-null    int64 \n",
      " 4   quantity_sold     307 non-null    int64 \n",
      " 5   waste             307 non-null    int64 \n",
      " 6   % waste           307 non-null    object\n",
      "dtypes: int64(5), object(2)\n",
      "memory usage: 16.9+ KB\n"
     ]
    }
   ],
   "source": [
    "#Get an idea of the data\n",
    "df.info()"
   ]
  },
  {
   "cell_type": "code",
   "execution_count": 34,
   "metadata": {},
   "outputs": [
    {
     "data": {
      "text/html": [
       "<div>\n",
       "<style scoped>\n",
       "    .dataframe tbody tr th:only-of-type {\n",
       "        vertical-align: middle;\n",
       "    }\n",
       "\n",
       "    .dataframe tbody tr th {\n",
       "        vertical-align: top;\n",
       "    }\n",
       "\n",
       "    .dataframe thead th {\n",
       "        text-align: right;\n",
       "    }\n",
       "</style>\n",
       "<table border=\"1\" class=\"dataframe\">\n",
       "  <thead>\n",
       "    <tr style=\"text-align: right;\">\n",
       "      <th></th>\n",
       "      <th>sales_outlet_id</th>\n",
       "      <th>product_id</th>\n",
       "      <th>start_of_day</th>\n",
       "      <th>quantity_sold</th>\n",
       "      <th>waste</th>\n",
       "    </tr>\n",
       "  </thead>\n",
       "  <tbody>\n",
       "    <tr>\n",
       "      <th>count</th>\n",
       "      <td>307.000000</td>\n",
       "      <td>307.000000</td>\n",
       "      <td>307.000000</td>\n",
       "      <td>307.000000</td>\n",
       "      <td>307.000000</td>\n",
       "    </tr>\n",
       "    <tr>\n",
       "      <th>mean</th>\n",
       "      <td>5.394137</td>\n",
       "      <td>70.983713</td>\n",
       "      <td>24.058632</td>\n",
       "      <td>9.296417</td>\n",
       "      <td>14.657980</td>\n",
       "    </tr>\n",
       "    <tr>\n",
       "      <th>std</th>\n",
       "      <td>2.049477</td>\n",
       "      <td>1.417582</td>\n",
       "      <td>12.063414</td>\n",
       "      <td>5.440115</td>\n",
       "      <td>11.202108</td>\n",
       "    </tr>\n",
       "    <tr>\n",
       "      <th>min</th>\n",
       "      <td>3.000000</td>\n",
       "      <td>69.000000</td>\n",
       "      <td>18.000000</td>\n",
       "      <td>0.000000</td>\n",
       "      <td>0.000000</td>\n",
       "    </tr>\n",
       "    <tr>\n",
       "      <th>25%</th>\n",
       "      <td>3.000000</td>\n",
       "      <td>70.000000</td>\n",
       "      <td>18.000000</td>\n",
       "      <td>6.000000</td>\n",
       "      <td>8.000000</td>\n",
       "    </tr>\n",
       "    <tr>\n",
       "      <th>50%</th>\n",
       "      <td>5.000000</td>\n",
       "      <td>71.000000</td>\n",
       "      <td>18.000000</td>\n",
       "      <td>8.000000</td>\n",
       "      <td>11.000000</td>\n",
       "    </tr>\n",
       "    <tr>\n",
       "      <th>75%</th>\n",
       "      <td>8.000000</td>\n",
       "      <td>72.000000</td>\n",
       "      <td>18.000000</td>\n",
       "      <td>11.000000</td>\n",
       "      <td>15.000000</td>\n",
       "    </tr>\n",
       "    <tr>\n",
       "      <th>max</th>\n",
       "      <td>8.000000</td>\n",
       "      <td>73.000000</td>\n",
       "      <td>48.000000</td>\n",
       "      <td>32.000000</td>\n",
       "      <td>47.000000</td>\n",
       "    </tr>\n",
       "  </tbody>\n",
       "</table>\n",
       "</div>"
      ],
      "text/plain": [
       "       sales_outlet_id  product_id  start_of_day  quantity_sold       waste\n",
       "count       307.000000  307.000000    307.000000     307.000000  307.000000\n",
       "mean          5.394137   70.983713     24.058632       9.296417   14.657980\n",
       "std           2.049477    1.417582     12.063414       5.440115   11.202108\n",
       "min           3.000000   69.000000     18.000000       0.000000    0.000000\n",
       "25%           3.000000   70.000000     18.000000       6.000000    8.000000\n",
       "50%           5.000000   71.000000     18.000000       8.000000   11.000000\n",
       "75%           8.000000   72.000000     18.000000      11.000000   15.000000\n",
       "max           8.000000   73.000000     48.000000      32.000000   47.000000"
      ]
     },
     "execution_count": 34,
     "metadata": {},
     "output_type": "execute_result"
    }
   ],
   "source": [
    "#Get descriptive statistics on the dataset\n",
    "df.describe()"
   ]
  },
  {
   "cell_type": "code",
   "execution_count": 35,
   "metadata": {},
   "outputs": [
    {
     "data": {
      "text/plain": [
       "sales_outlet_id     0\n",
       "transaction_date    0\n",
       "product_id          0\n",
       "start_of_day        0\n",
       "quantity_sold       0\n",
       "waste               0\n",
       "% waste             0\n",
       "dtype: int64"
      ]
     },
     "execution_count": 35,
     "metadata": {},
     "output_type": "execute_result"
    }
   ],
   "source": [
    "#check data for missing values\n",
    "#a 0 denotes no missing values\n",
    "df.isnull().sum()"
   ]
  },
  {
   "cell_type": "code",
   "execution_count": 36,
   "metadata": {},
   "outputs": [
    {
     "data": {
      "text/plain": [
       "<matplotlib.collections.PathCollection at 0x17385ab0f40>"
      ]
     },
     "execution_count": 36,
     "metadata": {},
     "output_type": "execute_result"
    },
    {
     "data": {
      "image/png": "[encoded data removed]",
      "text/plain": [
       "<Figure size 432x288 with 1 Axes>"
      ]
     },
     "metadata": {
      "needs_background": "light"
     },
     "output_type": "display_data"
    }
   ],
   "source": [
    "#plot data just to see\n",
    "%matplotlib inline\n",
    "plt.xlabel('date')\n",
    "plt.ylabel('amount sold')\n",
    "plt.scatter(df.transaction_date,df.quantity_sold)"
   ]
  },
  {
   "cell_type": "markdown",
   "metadata": {},
   "source": [
    "# Preprocessing"
   ]
  },
  {
   "cell_type": "code",
   "execution_count": 41,
   "metadata": {},
   "outputs": [],
   "source": [
    "#encode dates + add columns for enumerating days of the week\n",
    "def encode_dates(df):\n",
    "    df['transaction_date'] = pd.to_datetime(df['transaction_date'])\n",
    "    df[\"transaction_weekday\"] = pd.to_datetime(df['transaction_date'], format = '%m/%d/%Y').dt.dayofweek\n",
    "    df[\"transaction_day\"] = pd.to_datetime(df['transaction_date'], format = '%m/%d/%Y').dt.day_name()\n",
    "    \n",
    "    return df"
   ]
  },
  {
   "cell_type": "code",
   "execution_count": null,
   "metadata": {},
   "outputs": [],
   "source": []
  },
  {
   "cell_type": "code",
   "execution_count": 42,
   "metadata": {},
   "outputs": [],
   "source": [
    "def preprocess_inputs(df):\n",
    "    df = df.copy()\n",
    "    \n",
    "    #drop unnecessary columns\n",
    "    df = df.drop(['% waste'], axis=1)\n",
    "    \n",
    "    #encode dates\n",
    "    encode_dates(df)\n",
    "    \n",
    "    return df"
   ]
  },
  {
   "cell_type": "code",
   "execution_count": 43,
   "metadata": {},
   "outputs": [],
   "source": [
    "data = preprocess_inputs(df)"
   ]
  },
  {
   "cell_type": "code",
   "execution_count": 44,
   "metadata": {},
   "outputs": [
    {
     "data": {
      "text/html": [
       "<div>\n",
       "<style scoped>\n",
       "    .dataframe tbody tr th:only-of-type {\n",
       "        vertical-align: middle;\n",
       "    }\n",
       "\n",
       "    .dataframe tbody tr th {\n",
       "        vertical-align: top;\n",
       "    }\n",
       "\n",
       "    .dataframe thead th {\n",
       "        text-align: right;\n",
       "    }\n",
       "</style>\n",
       "<table border=\"1\" class=\"dataframe\">\n",
       "  <thead>\n",
       "    <tr style=\"text-align: right;\">\n",
       "      <th></th>\n",
       "      <th>sales_outlet_id</th>\n",
       "      <th>transaction_date</th>\n",
       "      <th>product_id</th>\n",
       "      <th>start_of_day</th>\n",
       "      <th>quantity_sold</th>\n",
       "      <th>waste</th>\n",
       "      <th>transaction_weekday</th>\n",
       "      <th>transaction_day</th>\n",
       "    </tr>\n",
       "  </thead>\n",
       "  <tbody>\n",
       "    <tr>\n",
       "      <th>0</th>\n",
       "      <td>3</td>\n",
       "      <td>2019-04-01</td>\n",
       "      <td>69</td>\n",
       "      <td>18</td>\n",
       "      <td>8</td>\n",
       "      <td>10</td>\n",
       "      <td>0</td>\n",
       "      <td>Monday</td>\n",
       "    </tr>\n",
       "    <tr>\n",
       "      <th>1</th>\n",
       "      <td>3</td>\n",
       "      <td>2019-04-01</td>\n",
       "      <td>70</td>\n",
       "      <td>18</td>\n",
       "      <td>12</td>\n",
       "      <td>6</td>\n",
       "      <td>0</td>\n",
       "      <td>Monday</td>\n",
       "    </tr>\n",
       "    <tr>\n",
       "      <th>2</th>\n",
       "      <td>3</td>\n",
       "      <td>2019-04-01</td>\n",
       "      <td>71</td>\n",
       "      <td>18</td>\n",
       "      <td>8</td>\n",
       "      <td>10</td>\n",
       "      <td>0</td>\n",
       "      <td>Monday</td>\n",
       "    </tr>\n",
       "    <tr>\n",
       "      <th>3</th>\n",
       "      <td>3</td>\n",
       "      <td>2019-04-01</td>\n",
       "      <td>72</td>\n",
       "      <td>48</td>\n",
       "      <td>9</td>\n",
       "      <td>39</td>\n",
       "      <td>0</td>\n",
       "      <td>Monday</td>\n",
       "    </tr>\n",
       "    <tr>\n",
       "      <th>4</th>\n",
       "      <td>3</td>\n",
       "      <td>2019-04-01</td>\n",
       "      <td>73</td>\n",
       "      <td>18</td>\n",
       "      <td>9</td>\n",
       "      <td>9</td>\n",
       "      <td>0</td>\n",
       "      <td>Monday</td>\n",
       "    </tr>\n",
       "    <tr>\n",
       "      <th>...</th>\n",
       "      <td>...</td>\n",
       "      <td>...</td>\n",
       "      <td>...</td>\n",
       "      <td>...</td>\n",
       "      <td>...</td>\n",
       "      <td>...</td>\n",
       "      <td>...</td>\n",
       "      <td>...</td>\n",
       "    </tr>\n",
       "    <tr>\n",
       "      <th>302</th>\n",
       "      <td>8</td>\n",
       "      <td>2019-04-27</td>\n",
       "      <td>69</td>\n",
       "      <td>18</td>\n",
       "      <td>1</td>\n",
       "      <td>17</td>\n",
       "      <td>5</td>\n",
       "      <td>Saturday</td>\n",
       "    </tr>\n",
       "    <tr>\n",
       "      <th>303</th>\n",
       "      <td>8</td>\n",
       "      <td>2019-04-27</td>\n",
       "      <td>70</td>\n",
       "      <td>18</td>\n",
       "      <td>4</td>\n",
       "      <td>14</td>\n",
       "      <td>5</td>\n",
       "      <td>Saturday</td>\n",
       "    </tr>\n",
       "    <tr>\n",
       "      <th>304</th>\n",
       "      <td>8</td>\n",
       "      <td>2019-04-27</td>\n",
       "      <td>71</td>\n",
       "      <td>18</td>\n",
       "      <td>2</td>\n",
       "      <td>16</td>\n",
       "      <td>5</td>\n",
       "      <td>Saturday</td>\n",
       "    </tr>\n",
       "    <tr>\n",
       "      <th>305</th>\n",
       "      <td>8</td>\n",
       "      <td>2019-04-27</td>\n",
       "      <td>72</td>\n",
       "      <td>48</td>\n",
       "      <td>19</td>\n",
       "      <td>29</td>\n",
       "      <td>5</td>\n",
       "      <td>Saturday</td>\n",
       "    </tr>\n",
       "    <tr>\n",
       "      <th>306</th>\n",
       "      <td>8</td>\n",
       "      <td>2019-04-27</td>\n",
       "      <td>73</td>\n",
       "      <td>18</td>\n",
       "      <td>4</td>\n",
       "      <td>14</td>\n",
       "      <td>5</td>\n",
       "      <td>Saturday</td>\n",
       "    </tr>\n",
       "  </tbody>\n",
       "</table>\n",
       "<p>307 rows × 8 columns</p>\n",
       "</div>"
      ],
      "text/plain": [
       "     sales_outlet_id transaction_date  product_id  start_of_day  \\\n",
       "0                  3       2019-04-01          69            18   \n",
       "1                  3       2019-04-01          70            18   \n",
       "2                  3       2019-04-01          71            18   \n",
       "3                  3       2019-04-01          72            48   \n",
       "4                  3       2019-04-01          73            18   \n",
       "..               ...              ...         ...           ...   \n",
       "302                8       2019-04-27          69            18   \n",
       "303                8       2019-04-27          70            18   \n",
       "304                8       2019-04-27          71            18   \n",
       "305                8       2019-04-27          72            48   \n",
       "306                8       2019-04-27          73            18   \n",
       "\n",
       "     quantity_sold  waste  transaction_weekday transaction_day  \n",
       "0                8     10                    0          Monday  \n",
       "1               12      6                    0          Monday  \n",
       "2                8     10                    0          Monday  \n",
       "3                9     39                    0          Monday  \n",
       "4                9      9                    0          Monday  \n",
       "..             ...    ...                  ...             ...  \n",
       "302              1     17                    5        Saturday  \n",
       "303              4     14                    5        Saturday  \n",
       "304              2     16                    5        Saturday  \n",
       "305             19     29                    5        Saturday  \n",
       "306              4     14                    5        Saturday  \n",
       "\n",
       "[307 rows x 8 columns]"
      ]
     },
     "execution_count": 44,
     "metadata": {},
     "output_type": "execute_result"
    }
   ],
   "source": [
    "data"
   ]
  },
  {
   "cell_type": "markdown",
   "metadata": {},
   "source": [
    "# Data Inspection II"
   ]
  },
  {
   "cell_type": "code",
   "execution_count": 45,
   "metadata": {},
   "outputs": [
    {
     "data": {
      "image/png": "[encoded data removed]",
      "text/plain": [
       "<Figure size 432x288 with 2 Axes>"
      ]
     },
     "metadata": {
      "needs_background": "light"
     },
     "output_type": "display_data"
    }
   ],
   "source": [
    "#generates a heat map of how data is related\n",
    "sns.heatmap(df.corr(), cmap=\"YlGnBu\", annot = True)\n",
    "plt.show()"
   ]
  },
  {
   "cell_type": "code",
   "execution_count": 46,
   "metadata": {},
   "outputs": [
    {
     "data": {
      "text/html": [
       "<div>\n",
       "<style scoped>\n",
       "    .dataframe tbody tr th:only-of-type {\n",
       "        vertical-align: middle;\n",
       "    }\n",
       "\n",
       "    .dataframe tbody tr th {\n",
       "        vertical-align: top;\n",
       "    }\n",
       "\n",
       "    .dataframe thead th {\n",
       "        text-align: right;\n",
       "    }\n",
       "</style>\n",
       "<table border=\"1\" class=\"dataframe\">\n",
       "  <thead>\n",
       "    <tr style=\"text-align: right;\">\n",
       "      <th></th>\n",
       "      <th>transaction_date</th>\n",
       "      <th>quantity_sold</th>\n",
       "    </tr>\n",
       "  </thead>\n",
       "  <tbody>\n",
       "    <tr>\n",
       "      <th>0</th>\n",
       "      <td>4/1/2019</td>\n",
       "      <td>46</td>\n",
       "    </tr>\n",
       "    <tr>\n",
       "      <th>1</th>\n",
       "      <td>4/10/2019</td>\n",
       "      <td>110</td>\n",
       "    </tr>\n",
       "    <tr>\n",
       "      <th>2</th>\n",
       "      <td>4/11/2019</td>\n",
       "      <td>127</td>\n",
       "    </tr>\n",
       "    <tr>\n",
       "      <th>3</th>\n",
       "      <td>4/12/2019</td>\n",
       "      <td>133</td>\n",
       "    </tr>\n",
       "    <tr>\n",
       "      <th>4</th>\n",
       "      <td>4/13/2019</td>\n",
       "      <td>123</td>\n",
       "    </tr>\n",
       "    <tr>\n",
       "      <th>5</th>\n",
       "      <td>4/14/2019</td>\n",
       "      <td>167</td>\n",
       "    </tr>\n",
       "    <tr>\n",
       "      <th>6</th>\n",
       "      <td>4/15/2019</td>\n",
       "      <td>149</td>\n",
       "    </tr>\n",
       "    <tr>\n",
       "      <th>7</th>\n",
       "      <td>4/16/2019</td>\n",
       "      <td>144</td>\n",
       "    </tr>\n",
       "    <tr>\n",
       "      <th>8</th>\n",
       "      <td>4/17/2019</td>\n",
       "      <td>149</td>\n",
       "    </tr>\n",
       "    <tr>\n",
       "      <th>9</th>\n",
       "      <td>4/18/2019</td>\n",
       "      <td>117</td>\n",
       "    </tr>\n",
       "    <tr>\n",
       "      <th>10</th>\n",
       "      <td>4/19/2019</td>\n",
       "      <td>159</td>\n",
       "    </tr>\n",
       "    <tr>\n",
       "      <th>11</th>\n",
       "      <td>4/2/2019</td>\n",
       "      <td>46</td>\n",
       "    </tr>\n",
       "    <tr>\n",
       "      <th>12</th>\n",
       "      <td>4/20/2019</td>\n",
       "      <td>163</td>\n",
       "    </tr>\n",
       "    <tr>\n",
       "      <th>13</th>\n",
       "      <td>4/21/2019</td>\n",
       "      <td>161</td>\n",
       "    </tr>\n",
       "    <tr>\n",
       "      <th>14</th>\n",
       "      <td>4/22/2019</td>\n",
       "      <td>102</td>\n",
       "    </tr>\n",
       "    <tr>\n",
       "      <th>15</th>\n",
       "      <td>4/23/2019</td>\n",
       "      <td>93</td>\n",
       "    </tr>\n",
       "    <tr>\n",
       "      <th>16</th>\n",
       "      <td>4/24/2019</td>\n",
       "      <td>105</td>\n",
       "    </tr>\n",
       "    <tr>\n",
       "      <th>17</th>\n",
       "      <td>4/25/2019</td>\n",
       "      <td>109</td>\n",
       "    </tr>\n",
       "    <tr>\n",
       "      <th>18</th>\n",
       "      <td>4/26/2019</td>\n",
       "      <td>102</td>\n",
       "    </tr>\n",
       "    <tr>\n",
       "      <th>19</th>\n",
       "      <td>4/27/2019</td>\n",
       "      <td>77</td>\n",
       "    </tr>\n",
       "    <tr>\n",
       "      <th>20</th>\n",
       "      <td>4/3/2019</td>\n",
       "      <td>41</td>\n",
       "    </tr>\n",
       "    <tr>\n",
       "      <th>21</th>\n",
       "      <td>4/4/2019</td>\n",
       "      <td>48</td>\n",
       "    </tr>\n",
       "    <tr>\n",
       "      <th>22</th>\n",
       "      <td>4/5/2019</td>\n",
       "      <td>0</td>\n",
       "    </tr>\n",
       "    <tr>\n",
       "      <th>23</th>\n",
       "      <td>4/6/2019</td>\n",
       "      <td>70</td>\n",
       "    </tr>\n",
       "    <tr>\n",
       "      <th>24</th>\n",
       "      <td>4/7/2019</td>\n",
       "      <td>104</td>\n",
       "    </tr>\n",
       "    <tr>\n",
       "      <th>25</th>\n",
       "      <td>4/8/2019</td>\n",
       "      <td>118</td>\n",
       "    </tr>\n",
       "    <tr>\n",
       "      <th>26</th>\n",
       "      <td>4/9/2019</td>\n",
       "      <td>91</td>\n",
       "    </tr>\n",
       "  </tbody>\n",
       "</table>\n",
       "</div>"
      ],
      "text/plain": [
       "   transaction_date  quantity_sold\n",
       "0          4/1/2019             46\n",
       "1         4/10/2019            110\n",
       "2         4/11/2019            127\n",
       "3         4/12/2019            133\n",
       "4         4/13/2019            123\n",
       "5         4/14/2019            167\n",
       "6         4/15/2019            149\n",
       "7         4/16/2019            144\n",
       "8         4/17/2019            149\n",
       "9         4/18/2019            117\n",
       "10        4/19/2019            159\n",
       "11         4/2/2019             46\n",
       "12        4/20/2019            163\n",
       "13        4/21/2019            161\n",
       "14        4/22/2019            102\n",
       "15        4/23/2019             93\n",
       "16        4/24/2019            105\n",
       "17        4/25/2019            109\n",
       "18        4/26/2019            102\n",
       "19        4/27/2019             77\n",
       "20         4/3/2019             41\n",
       "21         4/4/2019             48\n",
       "22         4/5/2019              0\n",
       "23         4/6/2019             70\n",
       "24         4/7/2019            104\n",
       "25         4/8/2019            118\n",
       "26         4/9/2019             91"
      ]
     },
     "execution_count": 46,
     "metadata": {},
     "output_type": "execute_result"
    }
   ],
   "source": [
    "#get an idea of sales trends for total items sold each day\n",
    "df_trend = df.groupby('transaction_date').sum()['quantity_sold'].reset_index()\n",
    "df_trend"
   ]
  },
  {
   "cell_type": "code",
   "execution_count": 49,
   "metadata": {},
   "outputs": [
    {
     "data": {
      "text/plain": [
       "([0,\n",
       "  1,\n",
       "  2,\n",
       "  3,\n",
       "  4,\n",
       "  5,\n",
       "  6,\n",
       "  7,\n",
       "  8,\n",
       "  9,\n",
       "  10,\n",
       "  11,\n",
       "  12,\n",
       "  13,\n",
       "  14,\n",
       "  15,\n",
       "  16,\n",
       "  17,\n",
       "  18,\n",
       "  19,\n",
       "  20,\n",
       "  21,\n",
       "  22,\n",
       "  23,\n",
       "  24,\n",
       "  25,\n",
       "  26],\n",
       " [Text(0, 0, ''),\n",
       "  Text(0, 0, ''),\n",
       "  Text(0, 0, ''),\n",
       "  Text(0, 0, ''),\n",
       "  Text(0, 0, ''),\n",
       "  Text(0, 0, ''),\n",
       "  Text(0, 0, ''),\n",
       "  Text(0, 0, ''),\n",
       "  Text(0, 0, ''),\n",
       "  Text(0, 0, ''),\n",
       "  Text(0, 0, ''),\n",
       "  Text(0, 0, ''),\n",
       "  Text(0, 0, ''),\n",
       "  Text(0, 0, ''),\n",
       "  Text(0, 0, ''),\n",
       "  Text(0, 0, ''),\n",
       "  Text(0, 0, ''),\n",
       "  Text(0, 0, ''),\n",
       "  Text(0, 0, ''),\n",
       "  Text(0, 0, ''),\n",
       "  Text(0, 0, ''),\n",
       "  Text(0, 0, ''),\n",
       "  Text(0, 0, ''),\n",
       "  Text(0, 0, ''),\n",
       "  Text(0, 0, ''),\n",
       "  Text(0, 0, ''),\n",
       "  Text(0, 0, '')])"
      ]
     },
     "execution_count": 49,
     "metadata": {},
     "output_type": "execute_result"
    },
    {
     "data": {
      "image/png": "[encoded data removed]",
      "text/plain": [
       "<Figure size 1080x432 with 1 Axes>"
      ]
     },
     "metadata": {
      "needs_background": "light"
     },
     "output_type": "display_data"
    }
   ],
   "source": [
    "#graph the trend\n",
    "#would like to know exactly why this doesn't show every single day in the period\n",
    "plt.figure(figsize=(15,6))\n",
    "plt.plot(df_trend['transaction_date'], df_trend['quantity_sold'])\n",
    "plt.xticks(rotation='vertical', size=8)"
   ]
  },
  {
   "cell_type": "code",
   "execution_count": 50,
   "metadata": {},
   "outputs": [],
   "source": [
    "#discovery of top selling products\n",
    "prod_sales = pd.DataFrame(df.groupby('product_id').sum()['quantity_sold'])"
   ]
  },
  {
   "cell_type": "code",
   "execution_count": 51,
   "metadata": {},
   "outputs": [
    {
     "data": {
      "text/html": [
       "<div>\n",
       "<style scoped>\n",
       "    .dataframe tbody tr th:only-of-type {\n",
       "        vertical-align: middle;\n",
       "    }\n",
       "\n",
       "    .dataframe tbody tr th {\n",
       "        vertical-align: top;\n",
       "    }\n",
       "\n",
       "    .dataframe thead th {\n",
       "        text-align: right;\n",
       "    }\n",
       "</style>\n",
       "<table border=\"1\" class=\"dataframe\">\n",
       "  <thead>\n",
       "    <tr style=\"text-align: right;\">\n",
       "      <th></th>\n",
       "      <th>quantity_sold</th>\n",
       "    </tr>\n",
       "    <tr>\n",
       "      <th>product_id</th>\n",
       "      <th></th>\n",
       "    </tr>\n",
       "  </thead>\n",
       "  <tbody>\n",
       "    <tr>\n",
       "      <th>72</th>\n",
       "      <td>840</td>\n",
       "    </tr>\n",
       "    <tr>\n",
       "      <th>71</th>\n",
       "      <td>519</td>\n",
       "    </tr>\n",
       "    <tr>\n",
       "      <th>69</th>\n",
       "      <td>513</td>\n",
       "    </tr>\n",
       "    <tr>\n",
       "      <th>70</th>\n",
       "      <td>502</td>\n",
       "    </tr>\n",
       "    <tr>\n",
       "      <th>73</th>\n",
       "      <td>480</td>\n",
       "    </tr>\n",
       "  </tbody>\n",
       "</table>\n",
       "</div>"
      ],
      "text/plain": [
       "            quantity_sold\n",
       "product_id               \n",
       "72                    840\n",
       "71                    519\n",
       "69                    513\n",
       "70                    502\n",
       "73                    480"
      ]
     },
     "execution_count": 51,
     "metadata": {},
     "output_type": "execute_result"
    }
   ],
   "source": [
    "#discovery of top selling products\n",
    "#72 - ginger scones\n",
    "#71 - chocolate croissant\n",
    "#69 - Hazelnut Biscotti\n",
    "#70 - Cranberry Scone\n",
    "#73 - Almond Croissant\n",
    "prod_sales.sort_values('quantity_sold', ascending=False)"
   ]
  },
  {
   "cell_type": "markdown",
   "metadata": {},
   "source": [
    "# Create and fit model"
   ]
  },
  {
   "cell_type": "code",
   "execution_count": 54,
   "metadata": {},
   "outputs": [],
   "source": [
    "#trying to split data into indepnedent and dependent varables\n",
    "X = data[['quantity_sold','transaction_weekday']]\n",
    "y = data['start_of_day']"
   ]
  },
  {
   "cell_type": "code",
   "execution_count": 55,
   "metadata": {},
   "outputs": [],
   "source": [
    "#train test split \n",
    "X_train, X_test, y_train, y_test = train_test_split(X, y, train_size=0.7, shuffle=True, random_state=1)"
   ]
  },
  {
   "cell_type": "code",
   "execution_count": 56,
   "metadata": {},
   "outputs": [
    {
     "data": {
      "text/plain": [
       "LinearRegression()"
      ]
     },
     "execution_count": 56,
     "metadata": {},
     "output_type": "execute_result"
    }
   ],
   "source": [
    "#model\n",
    "model = linear_model.LinearRegression()\n",
    "model.fit(X_train,y_train)"
   ]
  },
  {
   "cell_type": "code",
   "execution_count": 57,
   "metadata": {},
   "outputs": [
    {
     "data": {
      "text/plain": [
       "array([0.80051041, 0.02826079])"
      ]
     },
     "execution_count": 57,
     "metadata": {},
     "output_type": "execute_result"
    }
   ],
   "source": [
    "model.coef_"
   ]
  },
  {
   "cell_type": "code",
   "execution_count": 59,
   "metadata": {},
   "outputs": [
    {
     "data": {
      "text/plain": [
       "array([22.26929468, 25.47133632, 22.26929468, 23.06980509, 23.06980509,\n",
       "       21.49704506, 23.89857629, 23.89857629, 23.89857629, 23.09806588,\n",
       "       22.32581627, 19.92428504, 19.12377463, 23.12632668, 27.92938914,\n",
       "       23.95509788, 23.15458747, 23.95509788, 23.95509788, 23.15458747,\n",
       "       15.97825457, 27.21366111, 24.81212988, 26.4131507 , 34.4182548 ,\n",
       "       23.21110906, 20.83783862, 18.43630739, 18.43630739, 24.84039067,\n",
       "       18.43630739, 25.47133632, 24.67082591, 27.07235714, 22.26929468,\n",
       "       20.66827386, 19.09551383, 21.49704506, 22.29755547, 20.69653465,\n",
       "       19.92428504, 21.52530586, 23.92683709, 21.52530586, 20.72479545,\n",
       "       20.75305624, 19.15203542, 25.5561187 , 22.35407706, 18.35152501,\n",
       "       24.78386909, 20.78131703, 19.98080662, 23.18284827, 20.78131703,\n",
       "       23.21110906, 18.4080466 , 23.21110906, 22.41059865, 24.81212988,\n",
       "       22.43885944, 22.43885944, 25.64090108, 22.43885944, 23.23936985,\n",
       "       21.46878427, 23.8703155 , 23.8703155 , 23.8703155 , 23.06980509,\n",
       "       22.29755547, 19.89602424, 19.09551383, 23.09806588, 27.90112834,\n",
       "       23.92683709, 23.12632668, 23.92683709, 23.92683709, 23.12632668,\n",
       "       15.94999378, 34.36173321, 27.18540032, 24.78386909, 26.38488991,\n",
       "       34.38999401, 23.18284827, 20.80957783, 18.4080466 , 18.4080466 ,\n",
       "       35.21876521, 18.4080466 , 20.83783862, 18.43630739, 18.43630739,\n",
       "       33.64600518, 18.43630739, 19.2368178 , 21.63834903, 22.43885944,\n",
       "       24.03988026, 20.03732821, 21.46878427, 19.86776345, 22.26929468,\n",
       "       23.06980509, 18.26674263, 20.69653465, 21.49704506, 21.49704506,\n",
       "       23.89857629, 16.6939826 , 19.12377463, 19.12377463, 22.32581627,\n",
       "       22.32581627, 22.32581627, 24.75560829, 23.15458747, 20.75305624,\n",
       "       23.15458747, 21.55356665, 22.38233785, 21.58182744, 26.38488991,\n",
       "       27.18540032, 30.38744196, 24.81212988, 22.41059865, 24.81212988,\n",
       "       22.41059865, 25.61264029, 27.2419219 , 24.03988026, 24.03988026,\n",
       "       20.03732821, 28.04243231, 21.46878427, 20.66827386, 22.26929468,\n",
       "       22.26929468, 24.67082591, 24.6990867 , 23.09806588, 27.90112834,\n",
       "       19.09551383, 18.29500342, 25.52785791, 20.72479545, 26.32836832,\n",
       "       18.32326422, 22.32581627, 23.95509788, 22.35407706, 18.35152501,\n",
       "       19.15203542, 20.75305624, 19.18029621, 20.78131703, 18.3797858 ,\n",
       "       19.18029621, 19.98080662, 24.81212988, 29.61519234, 20.80957783,\n",
       "       35.21876521, 24.01161947, 24.03988026, 21.63834903, 25.64090108,\n",
       "       32.04498436, 22.43885944, 19.86776345, 22.26929468, 19.06725304,\n",
       "       34.27695083, 27.07235714, 21.49704506, 19.09551383, 21.49704506,\n",
       "       28.70163875, 20.69653465, 22.32581627, 26.32836832, 19.92428504,\n",
       "       32.7324516 , 21.52530586, 20.75305624, 19.95254583, 23.15458747,\n",
       "       33.5612228 , 22.35407706, 21.58182744, 23.18284827, 21.58182744,\n",
       "       32.78897319, 19.18029621, 20.00906742, 22.41059865, 20.80957783,\n",
       "       30.41570275, 24.01161947, 24.03988026, 28.04243231, 23.23936985,\n",
       "       16.83528657, 23.23936985, 19.86776345, 22.26929468, 24.67082591,\n",
       "       18.26674263, 22.26929468, 22.29755547, 21.49704506, 24.6990867 ,\n",
       "       19.09551383, 19.89602424, 25.52785791, 23.12632668, 20.72479545,\n",
       "       18.32326422, 26.32836832, 27.95764993, 27.15713952, 27.95764993,\n",
       "       17.5510146 , 20.75305624, 24.78386909, 22.38233785, 22.38233785,\n",
       "       19.18029621, 19.98080662, 19.20855701, 23.21110906, 23.21110906,\n",
       "       17.60753619, 23.21110906, 30.44396354, 28.84294272, 29.64345313,\n",
       "       20.03732821, 25.64090108, 19.86776345, 27.87286755, 23.8703155 ,\n",
       "       34.27695083, 23.8703155 , 23.09806588, 23.09806588, 19.89602424,\n",
       "       39.10827408, 23.09806588, 20.72479545, 19.92428504, 25.52785791,\n",
       "       37.53551406, 23.12632668, 20.75305624, 23.15458747, 23.15458747,\n",
       "       39.96530608, 23.15458747, 23.98335868, 24.78386909, 23.18284827,\n",
       "       38.39254606, 23.18284827, 20.80957783, 19.20855701, 22.41059865,\n",
       "       41.62284849, 20.80957783, 20.83783862, 20.03732821, 28.84294272,\n",
       "       40.85059887, 23.23936985, 28.67337796, 25.47133632, 18.26674263,\n",
       "       23.8703155 , 21.46878427, 24.6990867 , 23.89857629, 19.09551383,\n",
       "       32.7041908 , 21.49704506, 21.52530586, 25.52785791, 23.12632668,\n",
       "       30.33092037, 19.92428504, 23.95509788, 19.15203542, 26.35662911,\n",
       "       33.5612228 , 23.95509788, 23.98335868, 25.5843795 , 21.58182744,\n",
       "       30.38744196, 21.58182744, 16.80702578, 19.20855701, 17.60753619,\n",
       "       31.21621316, 19.20855701])"
      ]
     },
     "execution_count": 59,
     "metadata": {},
     "output_type": "execute_result"
    }
   ],
   "source": [
    "model.predict(X)"
   ]
  },
  {
   "cell_type": "code",
   "execution_count": null,
   "metadata": {},
   "outputs": [],
   "source": []
  },
  {
   "cell_type": "code",
   "execution_count": null,
   "metadata": {},
   "outputs": [],
   "source": []
  },
  {
   "cell_type": "code",
   "execution_count": null,
   "metadata": {},
   "outputs": [],
   "source": []
  }
 ],
 "metadata": {
  "kernelspec": {
   "display_name": "Python 3",
   "language": "python",
   "name": "python3"
  },
  "language_info": {
   "codemirror_mode": {
    "name": "ipython",
    "version": 3
   },
   "file_extension": ".py",
   "mimetype": "text/x-python",
   "name": "python",
   "nbconvert_exporter": "python",
   "pygments_lexer": "ipython3",
   "version": "3.8.5"
  }
 },
 "nbformat": 4,
 "nbformat_minor": 4
}
